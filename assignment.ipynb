{
 "cells": [
  {
   "cell_type": "markdown",
   "metadata": {},
   "source": [
    "In this repository, you will find JSON representing a <i>subset</i> of the data for the <a href=\"http://modeldb.yale.edu\">ModelDB</a> repository of computational neuroscience models."
   ]
  },
  {
   "cell_type": "markdown",
   "metadata": {},
   "source": [
    "<h1>Getting started</h1>"
   ]
  },
  {
   "cell_type": "markdown",
   "metadata": {},
   "source": [
    "Begin by cloning this repository. Create a private repository on github and push your local copy to there.<br/><br/>Connect to MongoDB and create a database for this assignment."
   ]
  },
  {
   "cell_type": "code",
   "execution_count": 43,
   "metadata": {
    "collapsed": false
   },
   "outputs": [],
   "source": [
    "from pymongo import MongoClient\n",
    "mongodb = MongoClient()\n",
    "\n",
    "mongodb.drop_database('hw1')\n",
    "\n",
    "#creating database\n",
    "hw1 = mongodb.hw1"
   ]
  },
  {
   "cell_type": "markdown",
   "metadata": {},
   "source": [
    "Using the <tt>json</tt> module and Python file operations, load the data from <tt>modelcollection.json</tt> and <tt>papercollection.json</tt> into Python."
   ]
  },
  {
   "cell_type": "code",
   "execution_count": 44,
   "metadata": {
    "collapsed": false
   },
   "outputs": [],
   "source": [
    "# opening json dictionaries\n",
    "import json\n",
    "with open ('modelcollection.json') as f:\n",
    "    models_dict = json.load(f)\n",
    "with open ('papercollection.json') as g:\n",
    "    papers_dict = json.load(g)"
   ]
  },
  {
   "cell_type": "markdown",
   "metadata": {},
   "source": [
    "Put the loaded data into two collections in your database. I recommend calling them <tt>models</tt> and <tt>papers</tt>."
   ]
  },
  {
   "cell_type": "code",
   "execution_count": 50,
   "metadata": {
    "collapsed": false
   },
   "outputs": [
    {
     "data": {
      "text/plain": [
       "1114"
      ]
     },
     "execution_count": 50,
     "metadata": {},
     "output_type": "execute_result"
    }
   ],
   "source": [
    "hw1.models.count()"
   ]
  },
  {
   "cell_type": "code",
   "execution_count": 55,
   "metadata": {
    "collapsed": false
   },
   "outputs": [
    {
     "data": {
      "text/plain": [
       "1211"
      ]
     },
     "execution_count": 55,
     "metadata": {},
     "output_type": "execute_result"
    }
   ],
   "source": [
    "hw1.papers.count()"
   ]
  },
  {
   "cell_type": "code",
   "execution_count": 63,
   "metadata": {
    "collapsed": false
   },
   "outputs": [
    {
     "name": "stdout",
     "output_type": "stream",
     "text": [
      "{u'_id': 100603,\n",
      " u'brainregions': [],\n",
      " u'celltypes': [u'Substantia nigra pars compacta dopaminergic cell'],\n",
      " u'channels': [u'I L high threshold',\n",
      "               u'I h',\n",
      "               u'I K,Ca',\n",
      "               u'I Calcium',\n",
      "               u'I_HERG'],\n",
      " u'genes': [],\n",
      " u'modelconcepts': [u'Ion Channel Kinetics',\n",
      "                    u'Oscillations',\n",
      "                    u'Calcium dynamics'],\n",
      " u'modeltype': [u'Neuron or other electrically excitable cell'],\n",
      " u'receptors': [],\n",
      " u'references': [100604],\n",
      " u'simenvironment': [u'C or C++ program', u'FORTRAN'],\n",
      " u'text': u'\"Blocking the small-conductance (SK) calcium-activated potassium channel promotes burst firing in dopamine neurons both in vivo and in vitro. ... We focus on the underlying plateau potential oscillation generated in the presence of both apamin and TTX, so that action potentials are not considered.   We find that although the plateau potentials are mediated by a voltage-gated Ca2+ current, they do not depend on the accumulation of cytosolic Ca2+, then use a computational model to test the hypothesis that the slowly voltage-activated ether-a-go-go\\u2013related gene (ERG) potassium current repolarizes the plateaus.  The model, which includes a material balance on calcium, is able to reproduce the time course of both membrane potential and somatic calcium concentration, and can also mimic the induction of plateau potentials by the calcium chelator BAPTA.\" See paper for more.',\n",
      " u'title': u'ERG current in repolarizing plateau potentials in dopamine neurons (Canavier et al 2007)',\n",
      " u'transmitters': []}\n"
     ]
    }
   ],
   "source": [
    "pprint(models_dict[0])"
   ]
  },
  {
   "cell_type": "code",
   "execution_count": 296,
   "metadata": {
    "collapsed": false
   },
   "outputs": [
    {
     "name": "stdout",
     "output_type": "stream",
     "text": [
      "{u'_id': 3860,\n",
      " u'authors': [u'Crane GJ', u'Hines ML', u'Neild TO'],\n",
      " u'doi': u'10.1111/j.1549-8719.2001.tb00156.x',\n",
      " u'first_page': u'33',\n",
      " u'journal': u'Microcirculation',\n",
      " u'last_page': u'43',\n",
      " u'missing_references': u'all done',\n",
      " u'month': u'Feb',\n",
      " u'pubmed_id': u'11296851',\n",
      " u'references': [4461,\n",
      "                 4755,\n",
      "                 4757,\n",
      "                 4758,\n",
      "                 4764,\n",
      "                 4770,\n",
      "                 4773,\n",
      "                 4777,\n",
      "                 4781,\n",
      "                 4782,\n",
      "                 4786,\n",
      "                 4790,\n",
      "                 4792,\n",
      "                 4793,\n",
      "                 4797,\n",
      "                 4799,\n",
      "                 4800,\n",
      "                 4805,\n",
      "                 4806,\n",
      "                 4810,\n",
      "                 4815,\n",
      "                 4818,\n",
      "                 4819,\n",
      "                 4820,\n",
      "                 4823,\n",
      "                 4825,\n",
      "                 17148,\n",
      "                 17150,\n",
      "                 17152,\n",
      "                 17154,\n",
      "                 86943],\n",
      " u'title': u'Simulating the spread of membrane potential changes in arteriolar networks.',\n",
      " u'type': u'M',\n",
      " u'volume': u'8',\n",
      " u'year': u'2001'}\n"
     ]
    }
   ],
   "source": [
    "pprint(papers_dict[0])"
   ]
  },
  {
   "cell_type": "code",
   "execution_count": 49,
   "metadata": {
    "collapsed": false
   },
   "outputs": [
    {
     "data": {
      "text/plain": [
       "<pymongo.results.InsertManyResult object at 0x106f31370>"
      ]
     },
     "execution_count": 49,
     "metadata": {},
     "output_type": "execute_result"
    }
   ],
   "source": [
    "models = hw1.models\n",
    "models.insert_many(models_dict)"
   ]
  },
  {
   "cell_type": "code",
   "execution_count": 54,
   "metadata": {
    "collapsed": false
   },
   "outputs": [
    {
     "data": {
      "text/plain": [
       "<pymongo.results.InsertManyResult object at 0x1046b07d0>"
      ]
     },
     "execution_count": 54,
     "metadata": {},
     "output_type": "execute_result"
    }
   ],
   "source": [
    "papers = hw1.papers\n",
    "papers.insert_many(papers_dict)"
   ]
  },
  {
   "cell_type": "markdown",
   "metadata": {},
   "source": [
    "<h1>Explore the database</h1>"
   ]
  },
  {
   "cell_type": "markdown",
   "metadata": {},
   "source": [
    "Use MongoDB to answer the following questions. Run your code in the spaces provided."
   ]
  },
  {
   "cell_type": "markdown",
   "metadata": {},
   "source": [
    "<b>Q: How many models are there?</b>"
   ]
  },
  {
   "cell_type": "code",
   "execution_count": 58,
   "metadata": {
    "collapsed": false
   },
   "outputs": [
    {
     "data": {
      "text/plain": [
       "1114"
      ]
     },
     "execution_count": 58,
     "metadata": {},
     "output_type": "execute_result"
    }
   ],
   "source": [
    "models.count()"
   ]
  },
  {
   "cell_type": "markdown",
   "metadata": {},
   "source": [
    "<b>What are the field names (keys) for the model entry with <tt>_id</tt> = 87284?</b>"
   ]
  },
  {
   "cell_type": "code",
   "execution_count": 71,
   "metadata": {
    "collapsed": false
   },
   "outputs": [
    {
     "name": "stdout",
     "output_type": "stream",
     "text": [
      "The keys are:\n",
      "[u'transmitters',\n",
      " u'title',\n",
      " u'text',\n",
      " u'genes',\n",
      " u'simenvironment',\n",
      " u'celltypes',\n",
      " u'brainregions',\n",
      " u'channels',\n",
      " u'references',\n",
      " u'modeltype',\n",
      " u'receptors',\n",
      " u'_id',\n",
      " u'modelconcepts']\n"
     ]
    }
   ],
   "source": [
    "from pprint import pprint\n",
    "for doc in models.find({'_id':87284}):\n",
    "    a=doc\n",
    "print \"The keys are:\"\n",
    "pprint(a.keys())\n"
   ]
  },
  {
   "cell_type": "markdown",
   "metadata": {},
   "source": [
    "Note: this data is not completely denormalized: references in both collections are given in terms of the <tt>_id</tt> field of the paper collection.<br/><br/><b>How many distinct cell types are in the models collection?</b>"
   ]
  },
  {
   "cell_type": "code",
   "execution_count": 72,
   "metadata": {
    "collapsed": false
   },
   "outputs": [
    {
     "name": "stdout",
     "output_type": "stream",
     "text": [
      "188\n"
     ]
    }
   ],
   "source": [
    "ct = models.find().distinct('celltypes')\n",
    "count_ct = len(ct)\n",
    "print count_ct"
   ]
  },
  {
   "cell_type": "markdown",
   "metadata": {},
   "source": [
    "<b>Find the list of model ids for models that contain a Hippocampus CA3 pyramidal cell.</b>"
   ]
  },
  {
   "cell_type": "code",
   "execution_count": 85,
   "metadata": {
    "collapsed": false
   },
   "outputs": [
    {
     "name": "stdout",
     "output_type": "stream",
     "text": [
      "3263\n",
      "7907\n",
      "20007\n",
      "35358\n",
      "84606\n",
      "87216\n",
      "87762\n",
      "98003\n",
      "101629\n",
      "114337\n",
      "118098\n",
      "120907\n",
      "126814\n",
      "129067\n",
      "135902\n",
      "135903\n",
      "137259\n",
      "137505\n",
      "138421\n",
      "139421\n",
      "142104\n",
      "143148\n",
      "146499\n",
      "147756\n",
      "147867\n",
      "148035\n",
      "150288\n",
      "151282\n",
      "168314\n",
      "168874\n",
      "181967\n",
      "184139\n",
      "185512\n",
      "186768\n",
      "189088\n"
     ]
    }
   ],
   "source": [
    "for doc in models.find({'celltypes':'Hippocampus CA3 pyramidal cell'}).sort([('_id',1)]):\n",
    "    pprint (doc['_id'])"
   ]
  },
  {
   "cell_type": "markdown",
   "metadata": {},
   "source": [
    "<b>What other cells appear in models with a Hippocampus CA3 pyramidal cell? Sort them in alphabetical order. How many such cells are there?</b>"
   ]
  },
  {
   "cell_type": "code",
   "execution_count": 180,
   "metadata": {
    "collapsed": false
   },
   "outputs": [
    {
     "name": "stdout",
     "output_type": "stream",
     "text": [
      "[u'Abstract Izhikevich neuron',\n",
      " u'Abstract integrate-and-fire adaptive exponential (AdEx) neuron',\n",
      " u'Cerebellum purkinje cell',\n",
      " u'Dentate gyrus basket cell',\n",
      " u'Dentate gyrus granule cell',\n",
      " u'Dentate gyrus hilar cell',\n",
      " u'Dentate gyrus mossy cell',\n",
      " u'Entorhinal cortex stellate cell',\n",
      " u'Hippocampus CA1 axo-axonic cell',\n",
      " u'Hippocampus CA1 basket cell',\n",
      " u'Hippocampus CA1 bistratified cell',\n",
      " u'Hippocampus CA1 interneuron oriens alveus',\n",
      " u'Hippocampus CA1 pyramidal cell',\n",
      " u'Hippocampus CA3 axo-axonic cells',\n",
      " u'Hippocampus CA3 basket cell',\n",
      " u'Hippocampus CA3 pyramidal cell',\n",
      " u'Hippocampus CA3 stratum oriens lacunosum-moleculare interneuron',\n",
      " u'Hippocampus septum medial GABAergic neuron',\n",
      " u'Hodgkin-Huxley neuron',\n",
      " u'Neocortex fast spiking (FS) interneuron',\n",
      " u'Neocortex layer 2-3 pyramidal cell',\n",
      " u'Neocortex layer 4 pyramidal cell',\n",
      " u'Neocortex layer 5-6 pyramidal cell',\n",
      " u'Neocortex spiking regular (RS) neuron',\n",
      " u'Neocortical pyramidal cortical-thalamic cell',\n",
      " u'Pinsky-Rinzel CA1/3 pyramidal cell ']\n"
     ]
    }
   ],
   "source": [
    "hcpccell = models.find({'celltypes':'Hippocampus CA3 pyramidal cell'})\n",
    "hcpccelld = hcpccell.distinct('celltypes')\n",
    "hcpccelld.sort()\n",
    "pprint (hcpccelld)\n",
    "    \n",
    "\n",
    "        \n",
    "        "
   ]
  },
  {
   "cell_type": "markdown",
   "metadata": {},
   "source": [
    "<h1>Use aggregation</h1>"
   ]
  },
  {
   "cell_type": "markdown",
   "metadata": {},
   "source": [
    "How many models are there for each cell type? Display the results in a formatted table, sorted from most commonly appearing cell type to least commonly appearing."
   ]
  },
  {
   "cell_type": "code",
   "execution_count": 148,
   "metadata": {
    "collapsed": false
   },
   "outputs": [
    {
     "name": "stdout",
     "output_type": "stream",
     "text": [
      "108 Neocortex layer 5-6 pyramidal cell                     \n",
      "104 Hippocampus CA1 pyramidal cell                         \n",
      " 60 Neocortex layer 2-3 pyramidal cell                     \n",
      " 35 Hippocampus CA3 pyramidal cell                         \n",
      " 30 Olfactory bulb main mitral cell                        \n",
      " 30 Neocortex fast spiking (FS) interneuron                \n",
      " 29 Hodgkin-Huxley neuron                                  \n",
      " 26 Thalamus geniculate nucleus (lateral) principal neuron \n",
      " 25 Abstract integrate-and-fire leaky neuron               \n",
      " 24 Dentate gyrus granule cell                             \n",
      " 24 Cerebellum purkinje cell                               \n",
      " 22 Neocortex spiking regular (RS) neuron                  \n",
      " 22 Neostriatum spiny direct pathway neuron                \n",
      " 21 Neocortex spiking low threshold (LTS) neuron           \n",
      " 20 Neocortex layer 4 pyramidal cell                       \n",
      " 19 Globus pallidus neuron                                 \n",
      " 19 Olfactory bulb main interneuron granule MC cell        \n",
      " 18 Myelinated neuron                                      \n",
      " 17 Spinal cord motor neuron                               \n",
      " 16 Neocortex interneuron basket cell                      \n",
      " 15 Auditory nerve                                         \n",
      " 15 Squid axon                                             \n",
      " 14 Heart cell                                             \n",
      " 14 Neocortex layer 5 interneuron                          \n",
      " 14 Retina ganglion cell                                   \n",
      " 14 Thalamus reticular nucleus cell                        \n",
      " 13 Subthalamus nucleus projection neuron                  \n",
      " 13 Cardiac ventricular cell                               \n",
      " 13 Cerebellum interneuron granule cell                    \n",
      " 12 Dentate gyrus basket cell                              \n",
      " 12 Neocortex spiny stellate cell                          \n",
      " 11 Hippocampus CA1 basket cell                            \n",
      " 11 Abstract integrate-and-fire adaptive exponential (AdEx) neuron\n",
      " 11 Abstract Morris-Lecar neuron                           \n",
      " 10 Abstract Wang-Buzsaki neuron                           \n",
      "  9 Olfactory receptor neuron                              \n",
      "  9 Abstract Izhikevich neuron                             \n",
      "  9 Neostriatum fast spiking interneuron                   \n",
      "  9 Hippocampus CA1 interneuron oriens alveus              \n",
      "  9 Substantia nigra pars compacta dopaminergic cell       \n",
      "  8 Pituitary cell                                         \n",
      "  8 Hippocampus CA3 stratum oriens lacunosum-moleculare interneuron\n",
      "  8 Cerebellum golgi cell                                  \n",
      "  8 Dentate gyrus mossy cell                               \n",
      "  8 Dentate gyrus hilar cell                               \n",
      "  7 Neocortex layer 2-3 interneuron                        \n",
      "  7 Entorhinal cortex stellate cell                        \n",
      "  7 Cerebellum deep nucleus neuron                         \n",
      "  7 Cochlea hair cell (auditory)                           \n",
      "  7 Dorsal root ganglion (DRG) cell                        \n",
      "  7 Olfactory bulb main interneuron periglomerular cell    \n",
      "  7 Abstract single compartment conductance based cell     \n",
      "  6 Hippocampus CA3 basket cell                            \n",
      "  6 Neuroblastoma                                          \n",
      "  6 Retina photoreceptor cone cell                         \n",
      "  6 Neocortex layer 6a interneuron                         \n",
      "  6 Aplysia sensory neuron                                 \n",
      "  6 Neostriatum spiny indirect pathway neuron              \n",
      "  4 Aplysia motor neuron                                   \n",
      "  4 Neostriatum spiny neuron                               \n",
      "  4 Olfactory bulb main interneuron granule TC cell        \n",
      "  4 Thalamus lateral geniculate nucleus interneuron        \n",
      "  4 Astrocyte                                              \n",
      "  4 CN stellate cell                                       \n",
      "  4 Retina bipolar cell                                    \n",
      "  4 Cardiac atrial cell                                    \n",
      "  4 ELL pyramidal cell                                     \n",
      "  4 Medial Nucleus of the Trapezoid Body (MNTB) neuron     \n",
      "  4 Leech heart interneuron                                \n",
      "  4 Medial Superior Olive (MSO) cell                       \n",
      "  4 Wide dynamic range neuron                              \n",
      "  3 Suprachiasmatic nucleus (SCN) neuron                   \n",
      "  3 Vestibular neuron                                      \n",
      "  3 Cochlear nucleus bushy cell                            \n",
      "  3 Respiratory column neuron                              \n",
      "  3 NG108-15 neuronal cell                                 \n",
      "  3 Hermissenda photoreceptor Type B                       \n",
      "  3 Locust Lobula Giant Movement Detector (LGMD) neuron    \n",
      "  3 Nucleus accumbens spiny projection neuron              \n",
      "  3 Skeletal muscle cell                                   \n",
      "  3 Leech S cell                                           \n",
      "  2 Tritonia cerebral cell                                 \n",
      "  2 Aplysia interneuron                                    \n",
      "  2 Teleost thalamic neuron                                \n",
      "  2 Cochlear ganglion cell Type II                         \n",
      "  2 Brainstem neuron                                       \n",
      "  2 Neocortex layer 4 interneuron                          \n",
      "  2 Hippocampus CA1 PV+ fast-firing interneuron            \n",
      "  2 Macrophage                                             \n",
      "  2 Microglia                                              \n",
      "  2 Hippocampus CA1 bistratified cell                      \n",
      "  2 Ventral cochlear nucleus T stellate (chopper) neuron   \n",
      "  2 Cochlear nucleus pyramidal (fusiform) cell             \n",
      "  2 Olfactory cortex anterior pyramidal neuron             \n",
      "  2 Aplysia R15 bursting neuron                            \n",
      "  2 Stomatogastric ganglion pyloric neuron                 \n",
      "  2 Stomatogastric ganglion pyloric dilator neuron         \n",
      "  2 Neocortex layer 4 neuron                               \n",
      "  2 Crab Stomatogastric Ganglion (STG) Lateral Pyloric (LP) cell\n",
      "  2 Vibrissa motoneuron                                    \n",
      "  2 Honeybee kenyon cell                                   \n",
      "  2 Spinal cord motor neuron slow twitch                   \n",
      "  2 Tritonia swim interneuron dorsal                       \n",
      "  2 Crab Stomatogastric Ganglion (STG) Lateral Gastric (LG) cell\n",
      "  2 Leech T segmental sensory neuron                       \n",
      "  2 Electric fish midbrain torus semicircularis neuron     \n",
      "  2 Spinal lamprey neuron                                  \n",
      "  2 Dentate gyrus MOPP cell                                \n",
      "  2 GnRH neuron                                            \n",
      "  2 Neocortex bitufted interneuron                         \n",
      "  2 Tritonia swim interneuron ventral                      \n",
      "  2 Hippocampus CA1 axo-axonic cell                        \n",
      "  2 Abstract integrate-and-fire fractional leaky neuron    \n",
      "  1 Neostriatum interneuron cholinergic cell               \n",
      "  1 Turtle dorsal cortex subpial cell                      \n",
      "  1 Turtle dorsal cortex horizontal cell                   \n",
      "  1 Turtle dorsal cortex medial pyramidal cell             \n",
      "  1 Intramuscular interstitial cell of Cajal (ICCIM)       \n",
      "  1 Hermissenda photoreceptor Type A                       \n",
      "  1 Aplysia feeding CPG neurons                            \n",
      "  1 Spinal cord lamina I neuron                            \n",
      "  1 Crab Stomatogastric Ganglion (STG) interneuron 1 (Int1)\n",
      "  1 Leech pressure (P) mechanosensory neuron               \n",
      "  1 Aplysia cultured neuron                                \n",
      "  1 B lymphocyte                                           \n",
      "  1 Neocortical pyramidal cortical-thalamic cell           \n",
      "  1 Olfactory bulb (accessory) mitral cell                 \n",
      "  1 Hippocampus CA3 axo-axonic cells                       \n",
      "  1 Fly medulla neuron                                     \n",
      "  1 Fly lamina neuron                                      \n",
      "  1 Olfactory bulb main tufted middle cell                 \n",
      "  1 Gastrointestinal tract intrinsic sensory neuron        \n",
      "  1 Fly vertical system tangential cell                    \n",
      "  1 Crab Stomatogastric Ganglion (STG) Modulatory commissural neuron 1 (MCN1)\n",
      "  1 Leech heart motor neuron (HE)                          \n",
      "  1 Grueneberg ganglion neuron                             \n",
      "  1 Nucleus laminaris neuron                               \n",
      "  1 Neocortex superficial neurogliaform interneuron        \n",
      "  1 Neocortex deep neurogliaform interneuron               \n",
      "  1 Crayfish motor neuron                                  \n",
      "  1 Substantia nigra pars reticulata principal cell        \n",
      "  1 Neocortical pyramidal tract cortical-spinal cell       \n",
      "  1 Olfactory cortex anterior interneuron superficial layer\n",
      "  1 Dorsal Root Ganglion cell: cold sensing                \n",
      "  1 Locus Coeruleus neuron                                 \n",
      "  1 Inferior olive neuron                                  \n",
      "  1 Lateral Superior Olive (LSO) cell                      \n",
      "  1 Spinal cord renshaw cell                               \n",
      "  1 Olfactory bulb main juxtaglomerular cell               \n",
      "  1 Crayfish identified nonspiking interneuron             \n",
      "  1 Hippocampus septum medial GABAergic neuron             \n",
      "  1 Vibrissa motor plant                                   \n",
      "  1 C elegans uterine-vulval cell (uv1)                    \n",
      "  1 Cochlear nucleus octopus cell                          \n",
      "  1 Myenteric interstitial cell of Cajal (ICCMY)           \n",
      "  1 Hippocampus CA1 stratum radiatum interneuron           \n",
      "  1 Neocortex spiking irregular interneuron                \n",
      "  1 Thalamus DLM projection neuron                         \n",
      "  1 C elegans Hermaphrodite-Specific neuron (HSN)          \n",
      "  1 Spinal cord sympathetic preganglionic neuron           \n",
      "  1 Pinsky-Rinzel CA1/3 pyramidal cell                     \n",
      "  1 Neocortical pyramidal intra-telencephalic cell         \n",
      "  1 Hippocampus CA3 stratum radiatum lacunosum-moleculare interneuron\n",
      "  1 Hippocampus CA1 stratum oriens lacunosum-moleculare interneuron \n",
      "  1 Helix pacemaker bursting neuron (RPa1)                 \n",
      "  1 Arteriolar network                                     \n",
      "  1 Leech Retzius neuron                                   \n",
      "  1 Drosophila antennal lobe DM1 projection neuron         \n",
      "  1 C elegans VC motor neuron                              \n",
      "  1 Stick insect nonspiking interneuron                    \n",
      "  1 Turtle dorsal cortex lateral pyramidal cell            \n",
      "  1 Leech C interneuron                                    \n",
      "  1 Spinal cord Ia interneuron                             \n",
      "  1 Spinal cord motor neuron fast fatiguing                \n",
      "  1 Fly lobular plate vertical system cell                 \n",
      "  1 Aplysia B31/B32 neuron                                 \n",
      "  1 Turtle dorsal cortex stellate cell                     \n",
      "  1 Abstract Hindmarsh-Rose neuron                         \n",
      "  1 Depressor scutorum rostralis muscle cell               \n",
      "  1 Superior paraolivary nucleus neuron                    \n",
      "  1 Abstract theta neuron                                  \n",
      "  1 Spinal cord Ib interneuron                             \n",
      "  1 Spinal cord motor neuron fatigue resistant             \n",
      "  1 Hippocampus dissociated neuron                         \n",
      "  1 Olfactory cortex anterior interneuron deep layer       \n",
      "  1 Electric fish P- and T-type primary afferent fibers    \n",
      "  1 Olfactory bulb short axon cell                         \n",
      "  1 Neocortex dissociated cultured nerve cell              \n"
     ]
    }
   ],
   "source": [
    "mct = list(models.aggregate(\n",
    "   [\n",
    "      {'$unwind' : '$celltypes' },\n",
    "      {'$group' : {'_id' : '$celltypes','counts': { '$sum': 1 }}},\n",
    "      {'$sort' : {'counts':-1}}\n",
    "   ]    \n",
    "))\n",
    "    \n",
    "for item in mct:\n",
    "    print '{:3d} {:55s}'.format(item['counts'], item['_id'])"
   ]
  },
  {
   "cell_type": "markdown",
   "metadata": {},
   "source": [
    "Find the model titles (not paper titles) for models that (1) involve a Hippocampus CA3 pyramidal cell, and (2) have an associated reference where one of the authors is \"Migliore M\"."
   ]
  },
  {
   "cell_type": "code",
   "execution_count": 199,
   "metadata": {
    "collapsed": false
   },
   "outputs": [
    {
     "name": "stdout",
     "output_type": "stream",
     "text": [
      "u'CA3 pyramidal neuron: firing properties (Hemond et al. 2008)'\n",
      "u'Ca3 pyramidal neuron: membrane response near rest (Hemond et al. 2009)'\n",
      "u'CA3 pyramidal neuron (Safiulina et al. 2010)'\n",
      "u'A model of unitary responses from A/C and PP synapses in CA3 pyramidal cells (Baker et al. 2010)'\n",
      "u'CA3 pyramidal neuron (Lazarewicz et al 2002)'\n",
      "u'CA3 Pyramidal Neuron (Migliore et al 1995)'\n"
     ]
    }
   ],
   "source": [
    "for model in models.aggregate([\n",
    "        {\n",
    "            '$match':\n",
    "            {\n",
    "                'celltypes': 'Hippocampus CA3 pyramidal cell'\n",
    "            }\n",
    "        },\n",
    "        {\n",
    "            '$lookup':\n",
    "            {\n",
    "                'from': 'papers',\n",
    "                'localField': 'references',\n",
    "                'foreignField': '_id',\n",
    "                'as': 'paperinfo'\n",
    "            }\n",
    "        },\n",
    "         {\n",
    "            '$match':\n",
    "            {\n",
    "                'paperinfo.authors': 'Migliore M'\n",
    "            }\n",
    "        },\n",
    "         {\n",
    "            '$project':\n",
    "            {\n",
    "                '_id': False,\n",
    "                'title': True,\n",
    "            }\n",
    "        }\n",
    "    ]):\n",
    "    pprint(model['title'])"
   ]
  },
  {
   "cell_type": "markdown",
   "metadata": {},
   "source": [
    "Find all the authors who were on a paper associated with a model that involved a Hippocampus CA3 pyramidal cell. Sort them in alphabetical order; give this list and state its length."
   ]
  },
  {
   "cell_type": "code",
   "execution_count": 280,
   "metadata": {
    "collapsed": false
   },
   "outputs": [
    {
     "name": "stdout",
     "output_type": "stream",
     "text": [
      "Ascoli GA                                         \n",
      "Atherton LA                                       \n",
      "Avermann M                                        \n",
      "Bae JY                                            \n",
      "Bae YC                                            \n",
      "Baker JL                                          \n",
      "Barreto E                                         \n",
      "Barrionuevo G                                     \n",
      "Bi GQ                                             \n",
      "Bisson G                                          \n",
      "Boley A                                           \n",
      "Borgers C                                         \n",
      "Caiati MD                                         \n",
      "Campbell SA                                       \n",
      "Carney PR                                         \n",
      "Chattarji S                                       \n",
      "Cheng JT                                          \n",
      "Cherubini E                                       \n",
      "Clancy CE                                         \n",
      "Contreras D                                       \n",
      "Cook EP                                           \n",
      "Cordiner DJ                                       \n",
      "Cutsuridis V                                      \n",
      "Ditto WL                                          \n",
      "Dugladze T                                        \n",
      "Eom K                                             \n",
      "Fall CP                                           \n",
      "Finkel LH                                         \n",
      "Franklin CC                                       \n",
      "Gerkin RC                                         \n",
      "Gerstner W                                        \n",
      "Gloveli T                                         \n",
      "Hausser M                                         \n",
      "Heinemann U                                       \n",
      "Hemond P                                          \n",
      "Hines ML                                          \n",
      "Ho WK                                             \n",
      "Huang CC                                          \n",
      "Huang CW                                          \n",
      "Hummos A                                          \n",
      "Hyun JH                                           \n",
      "Jaffe DB                                          \n",
      "Johnston D                                        \n",
      "Kim D                                             \n",
      "Kim MH                                            \n",
      "Kim S                                             \n",
      "Kopell N                                          \n",
      "Kopell NJ                                         \n",
      "Krieger A                                         \n",
      "Krothapalli SB                                    \n",
      "Lau PM                                            \n",
      "Lazarewicz MT                                     \n",
      "Lee KH                                            \n",
      "Lee SH                                            \n",
      "Litt B                                            \n",
      "Lytton WW                                         \n",
      "Malerba P                                         \n",
      "Mareci TH                                         \n",
      "McDougal RA                                       \n",
      "Mensi S                                           \n",
      "Migliore M                                        \n",
      "Monyer H                                          \n",
      "Munro E                                           \n",
      "Murray TA                                         \n",
      "Nair SS                                           \n",
      "Narayan A                                         \n",
      "Narayanan R                                       \n",
      "Naud R                                            \n",
      "Nauen DW                                          \n",
      "Neymotin SA                                       \n",
      "Nicola W                                          \n",
      "Olds JL                                           \n",
      "Pare D                                            \n",
      "Parekh MB                                         \n",
      "Perez-Rosello T                                   \n",
      "Pervouchine D                                     \n",
      "Petersen CC                                       \n",
      "Pinsky PF                                         \n",
      "Poirazi P                                         \n",
      "Pozzorini C                                       \n",
      "Prince LY                                         \n",
      "Reznik RI                                         \n",
      "Rinzel J                                          \n",
      "Roth A                                            \n",
      "Rotstein HG                                       \n",
      "Safiulina VF                                      \n",
      "Sander E                                          \n",
      "Sanjay M                                          \n",
      "Sherif M                                          \n",
      "Sherif MA                                         \n",
      "Sivakumaran S                                     \n",
      "So P                                              \n",
      "Stacey WC                                         \n",
      "Stanley DA                                        \n",
      "Talathi SS                                        \n",
      "Tort AB                                           \n",
      "Traub RD                                          \n",
      "Tsai JJ                                           \n",
      "Tsaneva-Atanasova KT                              \n",
      "Turner DA                                         \n",
      "Vetter P                                          \n",
      "Wang YT                                           \n",
      "Whittington MA                                    \n",
      "Wu SN                                             \n",
      "Xu J                                              \n",
      "Zhou J                                            \n",
      "106\n"
     ]
    }
   ],
   "source": [
    "aphc = list(models.aggregate([\n",
    "        {'$match':{'celltypes': 'Hippocampus CA3 pyramidal cell'}},\n",
    "        {'$lookup':{\n",
    "                'from': 'papers',\n",
    "                'localField': 'references',\n",
    "                'foreignField': '_id',\n",
    "                'as': 'paperinfo'\n",
    "            }},\n",
    "        {'$unwind': '$paperinfo'},\n",
    "        {'$unwind': '$paperinfo.authors'},\n",
    "        {'$project':{\n",
    "              '_id': False,\n",
    "                'paperinfo.authors': True,\n",
    "            }},\n",
    "        {\"$group\" : {\"_id\" : \"$paperinfo.authors\"}},\n",
    "        {'$sort' : {'_id':1}},\n",
    "\n",
    "    ]))\n",
    "\n",
    "for item in aphc:\n",
    "    print '{:50s}'.format(item['_id'])\n",
    "\n",
    "print len(aphc)  "
   ]
  },
  {
   "cell_type": "markdown",
   "metadata": {},
   "source": [
    "<h1>Modify the database</h1>"
   ]
  },
  {
   "cell_type": "markdown",
   "metadata": {},
   "source": [
    "Rename the Hippocampus CA1 pyramidal cell to be the Hippocampus CA1 pyramidal neuron. (Note: here we're using CA1 instead of CA3.) Make sure that this is consistent across all documents in the models collection."
   ]
  },
  {
   "cell_type": "code",
   "execution_count": 291,
   "metadata": {
    "collapsed": false
   },
   "outputs": [
    {
     "name": "stdout",
     "output_type": "stream",
     "text": [
      "None\n"
     ]
    }
   ],
   "source": [
    "pprint (models.find_one({'celltypes':'Hippocampus CA1 pyramidal cell'}))\n"
   ]
  },
  {
   "cell_type": "code",
   "execution_count": 290,
   "metadata": {
    "collapsed": false
   },
   "outputs": [
    {
     "data": {
      "text/plain": [
       "<pymongo.results.UpdateResult object at 0x105f24370>"
      ]
     },
     "execution_count": 290,
     "metadata": {},
     "output_type": "execute_result"
    }
   ],
   "source": [
    "models.update_many({'celltypes': 'Hippocampus CA1 pyramidal cell'},\n",
    "                  {'$set': {'celltypes.$': 'Hippocampus CA1 pyramidal neuron'}})"
   ]
  },
  {
   "cell_type": "code",
   "execution_count": 292,
   "metadata": {
    "collapsed": false
   },
   "outputs": [
    {
     "name": "stdout",
     "output_type": "stream",
     "text": [
      "{u'_id': 106551,\n",
      " u'brainregions': [],\n",
      " u'celltypes': [u'Hippocampus CA1 pyramidal neuron'],\n",
      " u'channels': [u'I Na,t', u'I A', u'I K', u'I h'],\n",
      " u'genes': [],\n",
      " u'modelconcepts': [u'Active Dendrites',\n",
      "                    u'Detailed Neuronal Models',\n",
      "                    u'Extracellular Fields'],\n",
      " u'modeltype': [u'Neuron or other electrically excitable cell'],\n",
      " u'receptors': [u'AMPA'],\n",
      " u'references': [107765, 112925],\n",
      " u'simenvironment': [u'NEURON'],\n",
      " u'text': u'NEURON mod files from the paper: Cassar\\xe0 AM, Hagberg GE, Bianciardi M, Migliore M, Maraviglia B. Realistic simulations of neuronal activity: A contribution to the debate on direct detection of neuronal currents by MRI. Neuroimage. 39:87-106 (2008).  In this paper, we use a detailed calculation of the magnetic field produced by the neuronal  currents propagating over a hippocampal CA1 pyramidal neuron placed inside a cubic MR voxel of  length 1.2 mm to estimate the Magnetic Resonance signal.',\n",
      " u'title': u'CA1 pyramidal neuron: calculation of MRI signals (Cassara et al. 2008)',\n",
      " u'transmitters': [u'Glutamate']}\n"
     ]
    }
   ],
   "source": [
    "pprint (models.find_one({'celltypes':'Hippocampus CA1 pyramidal neuron'}))"
   ]
  },
  {
   "cell_type": "markdown",
   "metadata": {},
   "source": [
    "Add a new entry (make up the data, but keep it appropriate) to the models collection. Associate it with two references, one that already exists and one that you also add to the papers collection."
   ]
  },
  {
   "cell_type": "code",
   "execution_count": 294,
   "metadata": {
    "collapsed": false
   },
   "outputs": [
    {
     "data": {
      "text/plain": [
       "<pymongo.results.InsertOneResult object at 0x105f24050>"
      ]
     },
     "execution_count": 294,
     "metadata": {},
     "output_type": "execute_result"
    }
   ],
   "source": [
    "models.insert_one({\n",
    " u'_id': 10655191,\n",
    " u'brainregions': [],\n",
    " u'celltypes': [u'Al Powers insula cell'],\n",
    " u'channels': [u'I Na,t', u'I K,Ca', u'I Cl', u'I h'],\n",
    " u'genes': [],\n",
    " u'modelconcepts': [u'Active Dendrites',\n",
    "                    u'Detailed Neuronal Models',\n",
    "                    u'Extracellular Fields'],\n",
    " u'modeltype': [u'Neuron or other electrically excitable cell'],\n",
    " u'receptors': [u'NMDA'],\n",
    " u'references': [107765, 999199],\n",
    " u'simenvironment': [u'NEURON'],\n",
    " u'text': u' Using a combination of fMRI and insula biospies of people with schizophrenia in comarison to healthy controls, a specific cell type that predicts risk of schizophrenia has been identified. See paper for more.',\n",
    " u'title': u'Al Powers insula cell: risk of schizophrenia (Powers et al. 2008)',\n",
    " u'transmitters': [u'Glutamate']})"
   ]
  },
  {
   "cell_type": "code",
   "execution_count": 295,
   "metadata": {
    "collapsed": false
   },
   "outputs": [
    {
     "name": "stdout",
     "output_type": "stream",
     "text": [
      "None\n"
     ]
    }
   ],
   "source": [
    "pprint (papers.find_one({'_id':'999199'}))"
   ]
  },
  {
   "cell_type": "code",
   "execution_count": 297,
   "metadata": {
    "collapsed": false
   },
   "outputs": [
    {
     "data": {
      "text/plain": [
       "<pymongo.results.InsertOneResult object at 0x105f24230>"
      ]
     },
     "execution_count": 297,
     "metadata": {},
     "output_type": "execute_result"
    }
   ],
   "source": [
    "papers.insert_one ({\n",
    " u'_id': 999199,\n",
    " u'authors': [u'Powers AR', u'Powers EM', u'{Powers AA}', u'{Powers MR}'],\n",
    " u'doi': u'10.1111/j.1549-8719.2001.tb00156.x',\n",
    " u'first_page': u'33',\n",
    " u'journal': u'Schizophrenia Bulletin',\n",
    " u'last_page': u'100',\n",
    " u'missing_references': u'all done',\n",
    " u'month': u'Mar',\n",
    " u'pubmed_id': u'112968433',\n",
    " u'references': [4819,\n",
    "                 4820,\n",
    "                 4823,\n",
    "                 4825,\n",
    "                 17148,\n",
    "                 17150,\n",
    "                 17152,\n",
    "                 17154,\n",
    "                 86943],\n",
    " u'title': u'Predicting Schizophrenia: the golden insula neuron.',\n",
    " u'type': u'M',\n",
    " u'volume': u'8',\n",
    " u'year': u'2016'\n",
    "})                   "
   ]
  },
  {
   "cell_type": "code",
   "execution_count": null,
   "metadata": {
    "collapsed": true
   },
   "outputs": [],
   "source": []
  }
 ],
 "metadata": {
  "anaconda-cloud": {},
  "kernelspec": {
   "display_name": "Python [default]",
   "language": "python",
   "name": "python2"
  },
  "language_info": {
   "codemirror_mode": {
    "name": "ipython",
    "version": 2
   },
   "file_extension": ".py",
   "mimetype": "text/x-python",
   "name": "python",
   "nbconvert_exporter": "python",
   "pygments_lexer": "ipython2",
   "version": "2.7.12"
  }
 },
 "nbformat": 4,
 "nbformat_minor": 1
}
