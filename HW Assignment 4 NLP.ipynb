{
 "cells": [
  {
   "cell_type": "code",
   "execution_count": null,
   "metadata": {
    "collapsed": true
   },
   "outputs": [],
   "source": [
    "Homework assignment for clinical NLP\n",
    "(1) Regular Expressions. Complete first 8 “lessons” at https://regexone.com/\n",
    "(2) Propose a simple way of finding negations in a sentence using regular expressions.\n",
    "Your regular expression should make use of the | and * symbols."
   ]
  },
  {
   "cell_type": "raw",
   "metadata": {},
   "source": [
    "/wno[/Wt] | [a-z]n't"
   ]
  },
  {
   "cell_type": "code",
   "execution_count": 2,
   "metadata": {
    "collapsed": false
   },
   "outputs": [],
   "source": [
    "import nltk;"
   ]
  },
  {
   "cell_type": "code",
   "execution_count": 3,
   "metadata": {
    "collapsed": true
   },
   "outputs": [],
   "source": [
    "import re;"
   ]
  },
  {
   "cell_type": "code",
   "execution_count": null,
   "metadata": {
    "collapsed": true
   },
   "outputs": [],
   "source": []
  },
  {
   "cell_type": "code",
   "execution_count": null,
   "metadata": {
    "collapsed": true
   },
   "outputs": [],
   "source": []
  },
  {
   "cell_type": "markdown",
   "metadata": {},
   "source": [
    "(3) Use NLTK to tokenize, stem, POS tag, and find named entities in “Fx of obesity but no fx of coronary artery diseases.”\n",
    "What named entities are in this sentence? What named entities does NLTK recognize? Use NLTK to plot the parse tree returned by"
   ]
  },
  {
   "cell_type": "code",
   "execution_count": null,
   "metadata": {
    "collapsed": true
   },
   "outputs": [],
   "source": [
    "(4) Give several tokens with the “WDT” POS tag\n",
    "(5) Create a dispersion plot of \"moon, earth, sun, mars\" in the 'sci.space' category of 20 newsgroups.\n",
    "(6) Write a tag pattern to cover noun phrases that contain gerunds, e.g. \"the/DT receiving/VBG end/NN\", \"assistant/NN managing/VBG editor/NN\". Add these patterns to the grammar, one per line. Test your work using some tagged sentences of your own devising.\n",
    "(7) Use the function nltk.ne_chunk_sents to find top 10 most common named entities in the 'sci.med' category of 20 newsgroups.\n",
    "(8) Look at http://scikit-learn.org/stable/modules/feature_extraction.html\n",
    "Start by initializing ngram_vectorizer = CountVectorizer(analyzer='char_wb', ngram_range=(2, 2), min_df=1)\n",
    "Apply this to “Fx of obesity but no fx of coronary artery diseases.”\n",
    "How many features are there?\n",
    "How many features do you get with setting ngram_range=(2, 5)?\n",
    "(9) Read article on Parsey McParseface:\n",
    "https://www.washingtonpost.com/news/wonk/wp/2016/05/18/googles-new-artificial-intelligence-cant-understand-these-sentences-can-you/?utm_term=.cf835cf7e5fd\n",
    "What is a garden-path sentence?\n",
    "Can Parsey McParseface help with pronoun resolution across sentences?"
   ]
  }
 ],
 "metadata": {
  "anaconda-cloud": {},
  "kernelspec": {
   "display_name": "Python [conda root]",
   "language": "python",
   "name": "conda-root-py"
  },
  "language_info": {
   "codemirror_mode": {
    "name": "ipython",
    "version": 2
   },
   "file_extension": ".py",
   "mimetype": "text/x-python",
   "name": "python",
   "nbconvert_exporter": "python",
   "pygments_lexer": "ipython2",
   "version": "2.7.12"
  }
 },
 "nbformat": 4,
 "nbformat_minor": 1
}
